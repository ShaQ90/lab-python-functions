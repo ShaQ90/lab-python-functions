{
 "cells": [
  {
   "cell_type": "markdown",
   "id": "25d7736c-ba17-4aff-b6bb-66eba20fbf4e",
   "metadata": {},
   "source": [
    "# Lab | Functions"
   ]
  },
  {
   "cell_type": "markdown",
   "id": "0c581062-8967-4d93-b06e-62833222f930",
   "metadata": {
    "tags": []
   },
   "source": [
    "## Exercise: Managing Customer Orders with Functions\n",
    "\n",
    "In the previous exercise, you improved the code for managing customer orders by using loops and flow control. Now, let's take it a step further and refactor the code by introducing functions.\n",
    "\n",
    "Follow the steps below to complete the exercise:\n",
    "\n",
    "1. Define a function named `initialize_inventory` that takes `products` as a parameter. Inside the function, implement the code for initializing the inventory dictionary using a loop and user input.\n",
    "\n",
    "2. Define a function named `get_customer_orders` that takes no parameters. Inside the function, implement the code for prompting the user to enter the product names using a loop. The function should return the `customer_orders` set.\n",
    "\n",
    "3. Define a function named `update_inventory` that takes `customer_orders` and `inventory` as parameters. Inside the function, implement the code for updating the inventory dictionary based on the customer orders.\n",
    "\n",
    "4. Define a function named `calculate_order_statistics` that takes `customer_orders` and `products` as parameters. Inside the function, implement the code for calculating the order statistics (total products ordered, and percentage of unique products ordered). The function should return these values.\n",
    "\n",
    "5. Define a function named `print_order_statistics` that takes `order_statistics` as a parameter. Inside the function, implement the code for printing the order statistics.\n",
    "\n",
    "6. Define a function named `print_updated_inventory` that takes `inventory` as a parameter. Inside the function, implement the code for printing the updated inventory.\n",
    "\n",
    "7. Call the functions in the appropriate sequence to execute the program and manage customer orders.\n",
    "\n",
    "Hints for functions:\n",
    "\n",
    "- Consider the input parameters required for each function and their return values.\n",
    "- Utilize function parameters and return values to transfer data between functions.\n",
    "- Test your functions individually to ensure they work correctly.\n",
    "\n",
    "\n"
   ]
  },
  {
   "cell_type": "code",
   "execution_count": 13,
   "id": "12f002b4-932a-47aa-9d9f-4f6f1c4f83ea",
   "metadata": {},
   "outputs": [],
   "source": [
    "#1\n",
    "products = [\"t-shirt\", \"mug\", \"hat\", \"book\", \"keychain\"]\n",
    "inventory = {}\n",
    "\n",
    "def initialize_inventory(items: list):\n",
    "    stock = {}\n",
    "    for product in items:\n",
    "        quantity = \"\"\n",
    "        while not quantity.isdigit():\n",
    "            \n",
    "            quantity = input(f\"How many {product} you have in store:\")\n",
    "            \n",
    "            if not quantity.isdigit():\n",
    "                print(\"Please insert a number\")\n",
    "            else:\n",
    "                stock[product] = int(quantity)       \n",
    "    return stock\n",
    "\n",
    "\n",
    "\n"
   ]
  },
  {
   "cell_type": "code",
   "execution_count": 15,
   "id": "ffa68bc4-ba71-4d6c-b47f-ed8c1e211b57",
   "metadata": {},
   "outputs": [],
   "source": [
    "#2          \n",
    "def get_customer_orders():\n",
    "    new_order = True\n",
    "    costumer_orders = []\n",
    "    \n",
    "    while new_order == True :\n",
    "        answer = \"\"\n",
    "        costumer_orders.append( input(\"Please choose the product you want to order:\").lower())\n",
    "        costumer_orders\n",
    "        while answer != \"yes\" and answer != \"no\":\n",
    "            answer = input(\"Do you want to order more products (yes/no)\").lower()\n",
    "            if answer == \"no\":\n",
    "                new_order = False\n",
    "            elif answer != \"yes\" and answer != \"no\": \n",
    "                print(\"Please repond yes or no\") \n",
    "        \n",
    "    return set(costumer_orders)\n"
   ]
  },
  {
   "cell_type": "code",
   "execution_count": 17,
   "id": "c5d384eb-93f0-477e-bf0f-c42025f159f3",
   "metadata": {},
   "outputs": [],
   "source": [
    "#3\n",
    "\n",
    "def update_inventory(costumer_orders, inventory):\n",
    "    list_products = list(inventory.keys())\n",
    "    for order in costumer_orders:\n",
    "        if order in list_products:\n",
    "            if inventory[order] > 0:\n",
    "                inventory[order] -=1\n",
    "            else:\n",
    "                print(f\"Product {order} out of stock\")\n",
    "        else:\n",
    "              print(f\"Product {order} doesnt exist\")\n",
    "            \n",
    "    return inventory\n",
    "\n",
    "        "
   ]
  },
  {
   "cell_type": "code",
   "execution_count": 37,
   "id": "77fafa3e-39dc-42ae-bce1-1ec21567f823",
   "metadata": {},
   "outputs": [],
   "source": [
    "#4\n",
    "def calculate_order_statistics(costumer_orders,products):\n",
    "    total = 0\n",
    "    for order in costumer_orders:\n",
    "        total +=1\n",
    "    percent = total/len(products)*100\n",
    "    return total,percent\n",
    "\n"
   ]
  },
  {
   "cell_type": "code",
   "execution_count": 55,
   "id": "0c3368a1-6102-416f-8419-27ac4eb27503",
   "metadata": {},
   "outputs": [],
   "source": [
    "#5\n",
    "def print_order_statistics(order_statistics):\n",
    "    print(f\"Total of bought items: {order_statistics[0]}, percentage of items bought:{order_statistics[1]}%\")"
   ]
  },
  {
   "cell_type": "code",
   "execution_count": 61,
   "id": "d1236d37-4cdd-4fdb-a559-adea6fe4ba8e",
   "metadata": {},
   "outputs": [],
   "source": [
    "#6 \n",
    "def print_updated_inventory(inventory):\n",
    "    for product in inventory:\n",
    "        print(f\"There are {inventory[product]} of the product {product} in stock\")"
   ]
  },
  {
   "cell_type": "code",
   "execution_count": 63,
   "id": "d17fa192-6088-4503-be43-2bde3c866f20",
   "metadata": {},
   "outputs": [
    {
     "name": "stdin",
     "output_type": "stream",
     "text": [
      "How many t-shirt you have in store: 1\n",
      "How many mug you have in store: 1\n",
      "How many hat you have in store: 1\n",
      "How many book you have in store: 1\n",
      "How many keychain you have in store: 1\n",
      "Please choose the product you want to order: t-shirt\n",
      "Do you want to order more products (yes/no) no\n"
     ]
    },
    {
     "name": "stdout",
     "output_type": "stream",
     "text": [
      "Product t-shirt doesnt exist\n",
      "Total of bought items: 1, percentage of items bought:20.0%\n",
      "There are 1 of the product t-shirt in stock\n",
      "There are 1 of the product mug in stock\n",
      "There are 1 of the product hat in stock\n",
      "There are 1 of the product book in stock\n",
      "There are 1 of the product keychain in stock\n"
     ]
    }
   ],
   "source": [
    "stock = initialize_inventory(products)\n",
    "user_order = get_customer_orders()\n",
    "update_inventory(user_order,inventory)\n",
    "statistics = calculate_order_statistics(user_order,products)\n",
    "print_order_statistics(statistics)\n",
    "print_updated_inventory(stock)"
   ]
  },
  {
   "cell_type": "code",
   "execution_count": 57,
   "id": "55f64f87-c833-41ae-ada3-1236c41d69f7",
   "metadata": {},
   "outputs": [
    {
     "name": "stdout",
     "output_type": "stream",
     "text": [
      "Total of bought items: 1, percentage of items bought:20.0%\n"
     ]
    }
   ],
   "source": [
    "print_order_statistics(statistics)"
   ]
  },
  {
   "cell_type": "code",
   "execution_count": null,
   "id": "d452f306-be2a-4c9a-9b61-187e04e3a8fd",
   "metadata": {},
   "outputs": [],
   "source": []
  }
 ],
 "metadata": {
  "kernelspec": {
   "display_name": "Python 3 (ipykernel)",
   "language": "python",
   "name": "python3"
  },
  "language_info": {
   "codemirror_mode": {
    "name": "ipython",
    "version": 3
   },
   "file_extension": ".py",
   "mimetype": "text/x-python",
   "name": "python",
   "nbconvert_exporter": "python",
   "pygments_lexer": "ipython3",
   "version": "3.12.4"
  }
 },
 "nbformat": 4,
 "nbformat_minor": 5
}
